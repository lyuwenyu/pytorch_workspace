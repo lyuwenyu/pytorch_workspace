{
 "cells": [
  {
   "cell_type": "code",
   "execution_count": 1,
   "metadata": {},
   "outputs": [],
   "source": [
    "import torch\n",
    "import torch.nn as nn\n",
    "import torch.optim as optim\n",
    "from torch.autograd import Variable\n",
    "import torchvision.models as models\n",
    "import torch.utils.data as data\n",
    "import torch.nn.functional as F\n",
    "\n",
    "import numpy as np"
   ]
  },
  {
   "cell_type": "markdown",
   "metadata": {},
   "source": [
    "## tensor variable parameter"
   ]
  },
  {
   "cell_type": "code",
   "execution_count": 2,
   "metadata": {},
   "outputs": [
    {
     "name": "stdout",
     "output_type": "stream",
     "text": [
      "torch.Size([10, 10]) torch.Size([10, 10]) torch.Size([10, 10])\n",
      "False True\n",
      "None None\n",
      "None None\n",
      "True True\n",
      "<AddBackward1 object at 0x115e63908>\n"
     ]
    }
   ],
   "source": [
    "# tensor\n",
    "# variable, wraps a tensor, records the operations applied to it, and holds the gradient\n",
    "# parameter, a kind of Variable\n",
    "\n",
    "t = torch.randn(10,10)\n",
    "v = Variable(t)\n",
    "p = nn.Parameter(t)\n",
    "\n",
    "o = v + p\n",
    "\n",
    "print(t.size(), v.size(), p.size())\n",
    "print(v.requires_grad, p.requires_grad)\n",
    "print(v.grad, p.grad)\n",
    "print(v.grad_fn, p.grad_fn)\n",
    "print(v.is_leaf, p.is_leaf)\n",
    "\n",
    "print(o.grad_fn)"
   ]
  },
  {
   "cell_type": "code",
   "execution_count": null,
   "metadata": {},
   "outputs": [],
   "source": []
  },
  {
   "cell_type": "markdown",
   "metadata": {},
   "source": [
    "## dataset"
   ]
  },
  {
   "cell_type": "code",
   "execution_count": 3,
   "metadata": {},
   "outputs": [],
   "source": [
    "class Dataset(data.Dataset):\n",
    "\n",
    "    def __init__(self, ):\n",
    "        \n",
    "        self.imgs = np.random.randn(100, 3, 224, 224).astype(np.float32)\n",
    "        self.labs = np.random.randint(0, 10, (100,)).astype(np.float32)\n",
    "    \n",
    "    def __len__(self):\n",
    "        \n",
    "        return self.imgs.shape[0]\n",
    "    \n",
    "    def __getitem__(self, i):\n",
    "        \n",
    "        pass\n",
    "    \n",
    "        return self.imgs[i], self.labs[i]\n",
    "  "
   ]
  },
  {
   "cell_type": "code",
   "execution_count": 4,
   "metadata": {},
   "outputs": [],
   "source": [
    "dataset = Dataset()\n",
    "dataloader = data.DataLoader(dataset, batch_size=20, num_workers=3, shuffle=True)"
   ]
  },
  {
   "cell_type": "code",
   "execution_count": 5,
   "metadata": {},
   "outputs": [
    {
     "name": "stdout",
     "output_type": "stream",
     "text": [
      "0 torch.Size([20, 3, 224, 224]) torch.Size([20])\n",
      "1 torch.Size([20, 3, 224, 224]) torch.Size([20])\n",
      "2 torch.Size([20, 3, 224, 224]) torch.Size([20])\n",
      "3 torch.Size([20, 3, 224, 224]) torch.Size([20])\n",
      "4 torch.Size([20, 3, 224, 224]) torch.Size([20])\n",
      "<class 'torch.FloatTensor'>\n"
     ]
    }
   ],
   "source": [
    "for i, (img, lab) in enumerate(dataloader):\n",
    "    print(i, img.size(), lab.size())\n",
    "    \n",
    "print(type(img))"
   ]
  },
  {
   "cell_type": "code",
   "execution_count": null,
   "metadata": {},
   "outputs": [],
   "source": []
  },
  {
   "cell_type": "markdown",
   "metadata": {},
   "source": [
    "## module"
   ]
  },
  {
   "cell_type": "code",
   "execution_count": 6,
   "metadata": {},
   "outputs": [],
   "source": [
    "class NewModule(nn.Module):\n",
    "    \n",
    "    def __init__(self, input_cs):\n",
    "        super(NewModule, self).__init__()\n",
    "        \n",
    "        self.conv1 = nn.Conv2d(in_channels=input_cs, out_channels=32, kernel_size=3, stride=1)\n",
    "        self.conv2 = nn.Conv2d(32, 64, 3, 2)\n",
    "        \n",
    "        self.model = nn.Sequential( self.conv1, nn.ReLU(), self.conv2, nn.ReLU() )\n",
    "        \n",
    "    def forward(self, x):\n",
    "        \n",
    "        out1 = F.relu( self.conv1(x) )\n",
    "        \n",
    "        out2 = self.model(x)\n",
    "        \n",
    "        return out1, out2"
   ]
  },
  {
   "cell_type": "code",
   "execution_count": 7,
   "metadata": {},
   "outputs": [
    {
     "name": "stdout",
     "output_type": "stream",
     "text": [
      "torch.Size([10, 32, 222, 222])\n",
      "torch.Size([10, 64, 110, 110])\n"
     ]
    }
   ],
   "source": [
    "mm = NewModule(3)\n",
    "x = Variable( torch.randn(10, 3, 224, 224) )\n",
    "o1, o2 = mm(x)\n",
    "\n",
    "print(o1.size())\n",
    "print(o2.size())"
   ]
  },
  {
   "cell_type": "markdown",
   "metadata": {},
   "source": [
    "## optimizer"
   ]
  },
  {
   "cell_type": "code",
   "execution_count": 8,
   "metadata": {},
   "outputs": [],
   "source": [
    "class resnetx(nn.Module):\n",
    "    \n",
    "    def __init__(self, num_classes):\n",
    "        \n",
    "        super(resnetx, self).__init__()\n",
    "        \n",
    "        model = models.resnet18()\n",
    "        \n",
    "        self.base = nn.Sequential(*list(model.children())[:-1])\n",
    "        \n",
    "        self.fc = nn.Linear(512, num_classes)\n",
    "        \n",
    "    def forward(self, x):\n",
    "        \n",
    "        n = x.size()[0]\n",
    "        \n",
    "        out = self.base(x)\n",
    "        out = self.fc( out.view(n, -1) )\n",
    "        \n",
    "        return out"
   ]
  },
  {
   "cell_type": "code",
   "execution_count": 9,
   "metadata": {},
   "outputs": [],
   "source": [
    "net = resnetx(num_classes=10)"
   ]
  },
  {
   "cell_type": "code",
   "execution_count": 10,
   "metadata": {},
   "outputs": [],
   "source": [
    "crit = nn.CrossEntropyLoss()\n",
    "opt = optim.SGD([{'params': net.base.parameters(), 'lr': 0.002}, {'params': net.fc.parameters()}], lr=0.02)\n",
    "scheduler = optim.lr_scheduler.StepLR(optimizer=opt, step_size=5, gamma=0.1)"
   ]
  },
  {
   "cell_type": "code",
   "execution_count": 11,
   "metadata": {},
   "outputs": [
    {
     "name": "stdout",
     "output_type": "stream",
     "text": [
      "2.3010736\n",
      "2.2906392\n",
      "2.301759\n",
      "2.3183694\n",
      "2.3136604\n"
     ]
    }
   ],
   "source": [
    "net.train()\n",
    "\n",
    "for e in range(1):\n",
    "    \n",
    "    for i, (img, lab) in enumerate(dataloader):\n",
    "        \n",
    "        img = Variable(img.float())\n",
    "        lab = Variable(lab.long())\n",
    "        \n",
    "        logits = F.softmax( net(img), dim=1 )\n",
    "        \n",
    "        loss = crit(logits, lab)\n",
    "        \n",
    "        opt.zero_grad()\n",
    "        loss.backward()\n",
    "        opt.step()\n",
    "        \n",
    "        print(loss.cpu().data.numpy()[0])\n",
    "    \n",
    "    scheduler.step()\n",
    "    \n",
    "# torch.save( net.state_dict(), '')"
   ]
  },
  {
   "cell_type": "markdown",
   "metadata": {},
   "source": [
    "## gpu"
   ]
  },
  {
   "cell_type": "code",
   "execution_count": 18,
   "metadata": {},
   "outputs": [
    {
     "name": "stdout",
     "output_type": "stream",
     "text": [
      "False\n",
      "0\n"
     ]
    }
   ],
   "source": [
    "print(torch.cuda.is_available())\n",
    "print(torch.cuda.device_count())"
   ]
  },
  {
   "cell_type": "code",
   "execution_count": null,
   "metadata": {},
   "outputs": [],
   "source": [
    "nn.parallel.data_parallel(net, data, device_ids=[])"
   ]
  },
  {
   "cell_type": "code",
   "execution_count": null,
   "metadata": {},
   "outputs": [],
   "source": []
  },
  {
   "cell_type": "markdown",
   "metadata": {},
   "source": [
    "## torchvision"
   ]
  },
  {
   "cell_type": "code",
   "execution_count": 23,
   "metadata": {},
   "outputs": [],
   "source": [
    "import torchvision.models as models\n",
    "import torchvision.utils as vutils\n",
    "import torchvision.transforms.functional as vF\n",
    "import torchvision.transforms as vtransforms"
   ]
  },
  {
   "cell_type": "code",
   "execution_count": 26,
   "metadata": {},
   "outputs": [],
   "source": [
    "mm = models.resnet101()"
   ]
  },
  {
   "cell_type": "code",
   "execution_count": null,
   "metadata": {},
   "outputs": [],
   "source": [
    "vutils.save_image()"
   ]
  },
  {
   "cell_type": "code",
   "execution_count": null,
   "metadata": {},
   "outputs": [],
   "source": []
  },
  {
   "cell_type": "code",
   "execution_count": null,
   "metadata": {},
   "outputs": [],
   "source": []
  },
  {
   "cell_type": "markdown",
   "metadata": {},
   "source": [
    "## decorator"
   ]
  },
  {
   "cell_type": "code",
   "execution_count": 35,
   "metadata": {},
   "outputs": [],
   "source": [
    "def logger(func):\n",
    "    def wrapper(*args, **kwargs):\n",
    "        print('--')\n",
    "        return func(*args)\n",
    "    \n",
    "    return wrapper"
   ]
  },
  {
   "cell_type": "code",
   "execution_count": 36,
   "metadata": {},
   "outputs": [],
   "source": [
    "@logger\n",
    "def funcx(x):\n",
    "    print(x*2)"
   ]
  },
  {
   "cell_type": "code",
   "execution_count": 37,
   "metadata": {},
   "outputs": [
    {
     "name": "stdout",
     "output_type": "stream",
     "text": [
      "--\n",
      "20\n"
     ]
    }
   ],
   "source": [
    "funcx(10)"
   ]
  },
  {
   "cell_type": "code",
   "execution_count": null,
   "metadata": {},
   "outputs": [],
   "source": []
  },
  {
   "cell_type": "code",
   "execution_count": null,
   "metadata": {},
   "outputs": [],
   "source": []
  },
  {
   "cell_type": "code",
   "execution_count": 116,
   "metadata": {},
   "outputs": [],
   "source": [
    "class Solver(object):\n",
    "    \n",
    "    def __init__(self, ):\n",
    "        \n",
    "        self.event_handler = {}\n",
    "        \n",
    "        self.x = 10\n",
    "        self.y = 20\n",
    "    \n",
    "    def add_event_handler(self, name, f, *args, **kwargs):\n",
    "        \n",
    "        self.event_handler[name] = ( f, args, kwargs )\n",
    "        \n",
    "        \n",
    "    def on(self, name, *args, **kwargs):\n",
    "        \n",
    "        def wrapper(f):\n",
    "            \n",
    "            self.add_event_handler(name, f, *args, **kwargs)\n",
    "            \n",
    "            return wrapper\n",
    "        \n",
    "        return wrapper\n",
    "    \n",
    "    \n",
    "    def run(self):\n",
    "        \n",
    "        f, args, kwargs = self.event_handler['x']\n",
    "            \n",
    "        f(self, *args, **kwargs)"
   ]
  },
  {
   "cell_type": "code",
   "execution_count": 117,
   "metadata": {},
   "outputs": [],
   "source": [
    "solver = Solver()"
   ]
  },
  {
   "cell_type": "code",
   "execution_count": 121,
   "metadata": {},
   "outputs": [],
   "source": [
    "@solver.on('x')\n",
    "\n",
    "def funcx(solver):\n",
    "    \n",
    "    z = solver.x + solver.y\n",
    "    \n",
    "    print(z)\n",
    "    \n",
    "    return z"
   ]
  },
  {
   "cell_type": "code",
   "execution_count": 122,
   "metadata": {},
   "outputs": [
    {
     "data": {
      "text/plain": [
       "{'x': (<function __main__.funcx>, (), {})}"
      ]
     },
     "execution_count": 122,
     "metadata": {},
     "output_type": "execute_result"
    }
   ],
   "source": [
    "solver.event_handler"
   ]
  },
  {
   "cell_type": "code",
   "execution_count": 123,
   "metadata": {},
   "outputs": [
    {
     "name": "stdout",
     "output_type": "stream",
     "text": [
      "30\n"
     ]
    }
   ],
   "source": [
    "solver.run()"
   ]
  },
  {
   "cell_type": "code",
   "execution_count": null,
   "metadata": {},
   "outputs": [],
   "source": []
  },
  {
   "cell_type": "code",
   "execution_count": null,
   "metadata": {},
   "outputs": [],
   "source": []
  }
 ],
 "metadata": {
  "kernelspec": {
   "display_name": "Python 3",
   "language": "python",
   "name": "python3"
  },
  "language_info": {
   "codemirror_mode": {
    "name": "ipython",
    "version": 3
   },
   "file_extension": ".py",
   "mimetype": "text/x-python",
   "name": "python",
   "nbconvert_exporter": "python",
   "pygments_lexer": "ipython3",
   "version": "3.6.4"
  }
 },
 "nbformat": 4,
 "nbformat_minor": 2
}
