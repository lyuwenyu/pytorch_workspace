{
 "cells": [
  {
   "cell_type": "code",
   "execution_count": 1,
   "metadata": {},
   "outputs": [],
   "source": [
    "import numpy as np\n",
    "from sklearn import cluster\n",
    "from collections import defaultdict"
   ]
  },
  {
   "cell_type": "code",
   "execution_count": 2,
   "metadata": {},
   "outputs": [
    {
     "data": {
      "text/plain": [
       "KMeans(algorithm='auto', copy_x=True, init='k-means++', max_iter=300,\n",
       "    n_clusters=3, n_init=10, n_jobs=1, precompute_distances='auto',\n",
       "    random_state=None, tol=0.0001, verbose=0)"
      ]
     },
     "execution_count": 2,
     "metadata": {},
     "output_type": "execute_result"
    }
   ],
   "source": [
    "data = np.random.randn(1000, 3)\n",
    "km = cluster.KMeans(n_clusters=3, )\n",
    "km.fit(data)"
   ]
  },
  {
   "cell_type": "code",
   "execution_count": 3,
   "metadata": {},
   "outputs": [],
   "source": [
    "import numpy as np\n",
    "\n",
    "\n",
    "def iou(box, clusters):\n",
    "    \"\"\"\n",
    "    Calculates the Intersection over Union (IoU) between a box and k clusters.\n",
    "    :param box: tuple or array, shifted to the origin (i. e. width and height)\n",
    "    :param clusters: numpy array of shape (k, 2) where k is the number of clusters\n",
    "    :return: numpy array of shape (k, 0) where k is the number of clusters\n",
    "    \"\"\"\n",
    "    x = np.minimum(clusters[:, 0], box[0])\n",
    "    y = np.minimum(clusters[:, 1], box[1])\n",
    "    if np.count_nonzero(x == 0) > 0 or np.count_nonzero(y == 0) > 0:\n",
    "        print(x, y, box)\n",
    "        raise ValueError(\"Box has no area\")\n",
    "\n",
    "    intersection = x * y\n",
    "    box_area = box[0] * box[1]\n",
    "    cluster_area = clusters[:, 0] * clusters[:, 1]\n",
    "\n",
    "    iou_ = intersection / (box_area + cluster_area - intersection)\n",
    "\n",
    "    return iou_\n",
    "\n",
    "\n",
    "def avg_iou(boxes, clusters):\n",
    "    \"\"\"\n",
    "    Calculates the average Intersection over Union (IoU) between a numpy array of boxes and k clusters.\n",
    "    :param boxes: numpy array of shape (r, 2), where r is the number of rows\n",
    "    :param clusters: numpy array of shape (k, 2) where k is the number of clusters\n",
    "    :return: average IoU as a single float\n",
    "    \"\"\"\n",
    "    return np.mean([np.max(iou(boxes[i], clusters)) for i in range(boxes.shape[0])])\n",
    "\n",
    "\n",
    "def translate_boxes(boxes):\n",
    "    \"\"\"\n",
    "    Translates all the boxes to the origin.\n",
    "    :param boxes: numpy array of shape (r, 4)\n",
    "    :return: numpy array of shape (r, 2)\n",
    "    \"\"\"\n",
    "    new_boxes = boxes.copy()\n",
    "    for row in range(new_boxes.shape[0]):\n",
    "        new_boxes[row][2] = np.abs(new_boxes[row][2] - new_boxes[row][0])\n",
    "        new_boxes[row][3] = np.abs(new_boxes[row][3] - new_boxes[row][1])\n",
    "    return np.delete(new_boxes, [0, 1], axis=1)\n",
    "\n",
    "\n",
    "def kmeans(boxes, k, dist=np.median):\n",
    "    \"\"\"\n",
    "    Calculates k-means clustering with the Intersection over Union (IoU) metric.\n",
    "    :param boxes: numpy array of shape (r, 2), where r is the number of rows\n",
    "    :param k: number of clusters\n",
    "    :param dist: distance function\n",
    "    :return: numpy array of shape (k, 2)\n",
    "    \"\"\"\n",
    "    rows = boxes.shape[0]\n",
    "\n",
    "    distances = np.empty((rows, k))\n",
    "    last_clusters = np.zeros((rows,))\n",
    "\n",
    "#     np.random.seed()\n",
    "\n",
    "    # the Forgy method will fail if the whole array contains the same rows\n",
    "    clusters = boxes[np.random.choice(rows, k, replace=False)]\n",
    "    while True:\n",
    "        for row in range(rows):\n",
    "            distances[row] = 1 - iou(boxes[row], clusters)\n",
    "\n",
    "        nearest_clusters = np.argmin(distances, axis=1)\n",
    "\n",
    "        if (last_clusters == nearest_clusters).all():\n",
    "            break\n",
    "\n",
    "        for cluster in range(k):\n",
    "            clusters[cluster] = dist(boxes[nearest_clusters == cluster], axis=0)\n",
    "\n",
    "        last_clusters = nearest_clusters\n",
    "\n",
    "    return clusters"
   ]
  },
  {
   "cell_type": "code",
   "execution_count": null,
   "metadata": {},
   "outputs": [],
   "source": []
  },
  {
   "cell_type": "code",
   "execution_count": 4,
   "metadata": {},
   "outputs": [
    {
     "name": "stdout",
     "output_type": "stream",
     "text": [
      "(120667, 2)\n",
      "(120663, 2)\n"
     ]
    }
   ],
   "source": [
    "info = defaultdict(int)\n",
    "\n",
    "with open('./label_file.txt') as f:\n",
    "    lines = f.readlines()\n",
    "    for lin in lines:\n",
    "        k = lin.strip().split(':')[1]\n",
    "        info[k] += 1\n",
    "        \n",
    "    lines = [lin.strip().split(':')[-1][1:-1] for lin in lines]      \n",
    "    lines = [list(map(float, lin.strip().split(','))) for lin in lines]\n",
    "    data = [[lin[2], lin[3]] for lin in lines]\n",
    "    data = np.array(data)\n",
    "    print(data.shape)\n",
    "    data = data[data[:, 0] > 0]\n",
    "    print(data.shape)"
   ]
  },
  {
   "cell_type": "code",
   "execution_count": 38,
   "metadata": {},
   "outputs": [
    {
     "name": "stdout",
     "output_type": "stream",
     "text": [
      "Accuracy: 54.63%\n",
      "Boxes:\n",
      " [[0.14983444 0.10099338]\n",
      " [0.01986755 0.02400662]\n",
      " [0.04304636 0.04895833]]\n",
      "Ratios:\n",
      " [0.83, 0.88, 1.48]\n"
     ]
    }
   ],
   "source": [
    "out = kmeans(data, k=3)\n",
    "\n",
    "print(\"Accuracy: {:.2f}%\".format(avg_iou(data, out) * 100))\n",
    "print(\"Boxes:\\n {}\".format(out))\n",
    "\n",
    "ratios = np.around(out[:, 0] / out[:, 1], decimals=2).tolist()\n",
    "print(\"Ratios:\\n {}\".format(sorted(ratios)))"
   ]
  },
  {
   "cell_type": "code",
   "execution_count": null,
   "metadata": {},
   "outputs": [],
   "source": []
  },
  {
   "cell_type": "code",
   "execution_count": 7,
   "metadata": {},
   "outputs": [
    {
     "name": "stdout",
     "output_type": "stream",
     "text": [
      "[[0.01076159 0.01821192]\n",
      " [0.02152318 0.01986755]\n",
      " [0.01821192 0.03642384]\n",
      " [0.03145695 0.02649007]\n",
      " [0.0397351  0.0397351 ]\n",
      " [0.0281457  0.06291391]\n",
      " [0.07119205 0.034375  ]\n",
      " [0.06291391 0.05794702]\n",
      " [0.04801325 0.09602649]\n",
      " [0.17466887 0.05629139]\n",
      " [0.10099338 0.10761589]\n",
      " [0.25165563 0.14321192]]\n"
     ]
    }
   ],
   "source": [
    "area = out[:, 0] * out[:, 1]\n",
    "bbox = out[np.argsort(area)]\n",
    "print(bbox)"
   ]
  },
  {
   "cell_type": "code",
   "execution_count": 8,
   "metadata": {
    "scrolled": true
   },
   "outputs": [
    {
     "data": {
      "text/plain": [
       "array([[  4.47682119,   7.57615894],\n",
       "       [  8.95364238,   8.26490066],\n",
       "       [  7.57615894,  15.15231788],\n",
       "       [ 13.08609272,  11.01986755],\n",
       "       [ 16.52980132,  16.52980132],\n",
       "       [ 11.70860927,  26.17218543],\n",
       "       [ 29.61589404,  14.3       ],\n",
       "       [ 26.17218543,  24.10596026],\n",
       "       [ 19.97350993,  39.94701987],\n",
       "       [ 72.66225166,  23.41721854],\n",
       "       [ 42.01324503,  44.76821192],\n",
       "       [104.68874172,  59.57615894]])"
      ]
     },
     "execution_count": 8,
     "metadata": {},
     "output_type": "execute_result"
    }
   ],
   "source": [
    "(bbox) * (416)"
   ]
  },
  {
   "cell_type": "code",
   "execution_count": 190,
   "metadata": {},
   "outputs": [
    {
     "data": {
      "text/plain": [
       "defaultdict(int,\n",
       "            {'car': 19598,\n",
       "             'cycle': 689,\n",
       "             'Left_p': 6075,\n",
       "             'Junc_p': 11939,\n",
       "             'car_head': 6041,\n",
       "             'car_wheel': 11208,\n",
       "             'car_rear': 2319,\n",
       "             'Right_p': 6044,\n",
       "             'parking_spot': 5998,\n",
       "             'cone': 16907,\n",
       "             'pillar': 17608,\n",
       "             'person': 7874,\n",
       "             'car_sanlun': 12,\n",
       "             'June_p': 85,\n",
       "             'cycle_sanlun': 77,\n",
       "             'left_p': 135,\n",
       "             'car_whee1': 18,\n",
       "             'forbid_brand': 5610,\n",
       "             'annimal': 1,\n",
       "             'Lift_p': 2,\n",
       "             'parking_pot': 1573,\n",
       "             'parkinng_lot': 130,\n",
       "             'parking_lot': 234,\n",
       "             'forbid_brand_star': 93,\n",
       "             'cone_star': 81,\n",
       "             'car_star': 124,\n",
       "             'person_star': 99,\n",
       "             'parking_spot_star': 1,\n",
       "             'parking_sopt': 88,\n",
       "             'car_ground_point': 2,\n",
       "             'car_ground_line': 2})"
      ]
     },
     "execution_count": 190,
     "metadata": {},
     "output_type": "execute_result"
    }
   ],
   "source": [
    "info"
   ]
  },
  {
   "cell_type": "code",
   "execution_count": 206,
   "metadata": {},
   "outputs": [
    {
     "name": "stdout",
     "output_type": "stream",
     "text": [
      "[0.87859714 0.93822578 0.93854101 0.80071587 0.82807956 0.99299384\n",
      " 0.91993248 0.82095137 0.94295418 0.93900877]\n"
     ]
    }
   ],
   "source": [
    "classes = ['Junc_p','Left_p','Right_p','car','cone','cycle','person','pillar','forbid_brand','parking_spot']\n",
    " \n",
    "nums = np.array([info[k] for k in classes])\n",
    "\n",
    "weights = 1 - nums / nums.sum()\n",
    "\n",
    "print(weights)"
   ]
  },
  {
   "cell_type": "code",
   "execution_count": 207,
   "metadata": {},
   "outputs": [
    {
     "data": {
      "text/plain": [
       "array([11939,  6075,  6044, 19598, 16907,   689,  7874, 17608,  5610,\n",
       "        5998])"
      ]
     },
     "execution_count": 207,
     "metadata": {},
     "output_type": "execute_result"
    }
   ],
   "source": [
    "nums"
   ]
  },
  {
   "cell_type": "code",
   "execution_count": 208,
   "metadata": {},
   "outputs": [
    {
     "data": {
      "text/plain": [
       "{'Junc_p': 11939,\n",
       " 'Left_p': 6075,\n",
       " 'Right_p': 6044,\n",
       " 'car': 19598,\n",
       " 'cone': 16907,\n",
       " 'cycle': 689,\n",
       " 'person': 7874,\n",
       " 'pillar': 17608,\n",
       " 'forbid_brand': 5610,\n",
       " 'parking_spot': 5998}"
      ]
     },
     "execution_count": 208,
     "metadata": {},
     "output_type": "execute_result"
    }
   ],
   "source": [
    "{k:info[k] for k in classes}"
   ]
  },
  {
   "cell_type": "code",
   "execution_count": 209,
   "metadata": {},
   "outputs": [],
   "source": [
    "ANCHORS = [[(1.25, 1.625), (2.0, 3.75), (4.125, 2.875)],            # Anchors for small obj\n",
    "           [(1.875, 3.8125), (3.875, 2.8125), (3.6875, 7.4375)],    # Anchors for medium obj\n",
    "           [(3.625, 2.8125), (4.875, 6.1875), (11.65625, 10.1875)]] # Anchors for big obj"
   ]
  },
  {
   "cell_type": "code",
   "execution_count": 211,
   "metadata": {},
   "outputs": [
    {
     "data": {
      "text/plain": [
       "array([[[ 40.,  52.],\n",
       "        [ 64., 120.],\n",
       "        [132.,  92.]],\n",
       "\n",
       "       [[ 60., 122.],\n",
       "        [124.,  90.],\n",
       "        [118., 238.]],\n",
       "\n",
       "       [[116.,  90.],\n",
       "        [156., 198.],\n",
       "        [373., 326.]]])"
      ]
     },
     "execution_count": 211,
     "metadata": {},
     "output_type": "execute_result"
    }
   ],
   "source": [
    "np.array(ANCHORS) * 32"
   ]
  },
  {
   "cell_type": "code",
   "execution_count": 226,
   "metadata": {},
   "outputs": [
    {
     "data": {
      "text/plain": [
       "array([[[ 3.1788064,  4.7682112],\n",
       "        [ 4.7682112,  9.5364224],\n",
       "        [ 8.4768224,  7.3333344]],\n",
       "\n",
       "       [[ 7.9470208, 16.9536416],\n",
       "        [13.2450336, 11.1258272],\n",
       "        [15.8940384, 21.1920544]],\n",
       "\n",
       "       [[45.0331136, 16.6887424],\n",
       "        [28.0794688, 33.9072832],\n",
       "        [75.2317888, 43.4437088]]])"
      ]
     },
     "execution_count": 226,
     "metadata": {},
     "output_type": "execute_result"
    }
   ],
   "source": [
    "np.array([[0.00993377, 0.01490066],\n",
    " [0.01490066, 0.02980132],\n",
    " [0.02649007, 0.02291667],\n",
    " [0.02483444, 0.05298013],\n",
    " [0.04139073, 0.03476821],\n",
    " [0.04966887, 0.06622517],\n",
    " [0.14072848, 0.05215232],\n",
    " [0.08774834, 0.10596026],\n",
    " [0.23509934, 0.13576159]]).reshape(3, 3, 2) * 320"
   ]
  },
  {
   "cell_type": "code",
   "execution_count": 227,
   "metadata": {},
   "outputs": [],
   "source": [
    "anchors = np.array([[[116,90], [156,198], [373,326]],\n",
    "                    [[30,61], [62,45], [59,119]],  \n",
    "                    [[10,13], [16,30], [33,23]]], dtype=np.float32) / 2"
   ]
  },
  {
   "cell_type": "code",
   "execution_count": 235,
   "metadata": {},
   "outputs": [
    {
     "data": {
      "text/plain": [
       "37.75"
      ]
     },
     "execution_count": 235,
     "metadata": {},
     "output_type": "execute_result"
    }
   ],
   "source": [
    "1208 / 32"
   ]
  },
  {
   "cell_type": "code",
   "execution_count": null,
   "metadata": {},
   "outputs": [],
   "source": []
  },
  {
   "cell_type": "code",
   "execution_count": null,
   "metadata": {},
   "outputs": [],
   "source": []
  },
  {
   "cell_type": "code",
   "execution_count": 262,
   "metadata": {},
   "outputs": [],
   "source": []
  },
  {
   "cell_type": "code",
   "execution_count": 487,
   "metadata": {
    "scrolled": true
   },
   "outputs": [
    {
     "name": "stdout",
     "output_type": "stream",
     "text": [
      "offset.shape： torch.Size([1, 18, 8, 8])\n",
      "16\n",
      "p.shape:  torch.Size([1, 18, 8, 8])\n",
      "torch.Size([1, 8, 8, 9])\n",
      "torch.Size([1, 8, 8, 9])\n",
      "torch.Size([1, 8, 8, 9])\n",
      "torch.Size([1, 8, 8, 9])\n",
      "torch.Size([1, 3, 8, 8, 9]) --\n",
      "tensor([0.0000, 0.0000, 0.0000, 0.0837, 0.6630, 0.7257, 0.0000, 0.5391],\n",
      "       grad_fn=<SliceBackward>)\n",
      "tensor([0., 0., 0., 0., 0., 0., 0., 0.], grad_fn=<SliceBackward>)\n",
      "torch.Size([1, 10, 8, 8])\n"
     ]
    },
    {
     "data": {
      "text/plain": [
       "torch.Size([1, 10, 8, 8])"
      ]
     },
     "execution_count": 487,
     "metadata": {},
     "output_type": "execute_result"
    }
   ],
   "source": [
    "import imp\n",
    "import ops_dcn\n",
    "import torch\n",
    "imp.reload(ops_dcn)\n",
    "\n",
    "data = torch.rand(1, 3, 16, 16)\n",
    "dcn = ops_dcn.DeformConv2d(3, 10, kernel_size=3, padding=1, stride=2)\n",
    "\n",
    "print(dcn(data).shape)\n",
    "\n",
    "m = nn.Conv2d(3, 10, 3, padding=1, stride=2)\n",
    "m(data).shape"
   ]
  },
  {
   "cell_type": "code",
   "execution_count": null,
   "metadata": {},
   "outputs": [],
   "source": []
  },
  {
   "cell_type": "code",
   "execution_count": 551,
   "metadata": {},
   "outputs": [],
   "source": [
    "import torch\n",
    "import torch.nn as nn\n",
    "import torch.nn.functional as F\n",
    "\n",
    "class Deformable_Conv2d(nn.Module):\n",
    "    \n",
    "    def __init__(self, inc, outc, kernel_size=3, padding=1, stride=1, bias=None, modulation=False):\n",
    "        super(Deformable_Conv2d, self).__init__()\n",
    "        \n",
    "        self.kernel_size = kernel_size\n",
    "        self.padding = padding\n",
    "        self.stride = stride\n",
    "        self.N = kernel_size * kernel_size\n",
    "        self.max_fea_dim = 100\n",
    "        \n",
    "        self.zero_padding = nn.ZeroPad2d(padding)\n",
    "        self.p_conv = nn.Conv2d(inc, 2 * self.N, kernel_size=kernel_size, padding=padding, stride=stride)\n",
    "        nn.init.zeros_(self.p_conv.weight)\n",
    "        \n",
    "        self.modulation = modulation\n",
    "        if modulation:\n",
    "            self.m_conv = nn.Conv2d(inc, self.N, kernel_size=kernel_size, padding=padding, stride=stride)\n",
    "            nn.init.constant_(self.m_conv.weight, 0.5)\n",
    "        \n",
    "        self.conv = nn.Conv2d(inc, outc, kernel_size=kernel_size, stride=kernel_size, bias=bias)\n",
    "\n",
    "        \n",
    "        self.p = self.get_p() # n h w 2N\n",
    "    \n",
    "    \n",
    "    def forward(self, x):\n",
    "        '''\n",
    "        '''\n",
    "        offset = self.p_conv(x)\n",
    "        \n",
    "        if self.modulation:\n",
    "            m = torch.sigmoid(self.m_conv(x))\n",
    "        \n",
    "        x = self.zero_padding(x)\n",
    "        \n",
    "        p = offset + self.p[:, :, :offset.size(2), :offset.size(3)].to(device=x.device, dtype=x.dtype)\n",
    "        p = p.permute(0, 2, 3, 1) # n, h, w, 2N\n",
    "        \n",
    "        p_lt = p.detach().floor()\n",
    "        p_rb = p_lt + 1.\n",
    "        \n",
    "        p_lt[..., :self.N].clamp_(0, x.size(3)-1); p_lt[..., self.N:].clamp_(0, x.size(2)-1)\n",
    "        p_rb[..., :self.N].clamp_(0, x.size(3)-1); p_rb[..., self.N:].clamp_(0, x.size(2)-1)\n",
    "        p_lb = torch.cat((p_lt[..., :self.N], p_rb[..., self.N:]), dim=-1)\n",
    "        p_rt = torch.cat((p_rb[..., :self.N], p_lt[..., self.N:]), dim=-1)\n",
    "        \n",
    "        p[..., :self.N].clamp_(0, x.size(3)-1); p[..., self.N:].clamp_(0, x.size(2)-1)\n",
    "        \n",
    "        # n 1 h w N\n",
    "        g_lt = self.compute_bilinear_g(p_lt, p).unsqueeze(1)\n",
    "        g_rb = self.compute_bilinear_g(p_rb, p).unsqueeze(1)\n",
    "        g_lb = self.compute_bilinear_g(p_lb, p).unsqueeze(1)\n",
    "        g_rt = self.compute_bilinear_g(p_rt, p).unsqueeze(1)\n",
    "        \n",
    "        # n c h w N\n",
    "        x_q_lt = self.get_x_q(x, p_lt)\n",
    "        x_q_rb = self.get_x_q(x, p_rb)\n",
    "        x_q_lb = self.get_x_q(x, p_lb)\n",
    "        x_q_rt = self.get_x_q(x, p_rt)\n",
    "        \n",
    "        # n c h w N\n",
    "        x_offset = g_lt * x_q_lt + g_rb * x_q_rb + g_lb * x_q_lb + g_rt * x_q_rt\n",
    "        \n",
    "        if self.modulation:\n",
    "            m = m.permute(0, 2, 3, 1).unsqueeze(1)\n",
    "            x_offset *= m\n",
    "        \n",
    "        n, c, h, w, N = x_offset.size()\n",
    "        x_offset = x_offset.view(n, c, h, w, self.kernel_size, self.kernel_size).permute(0, 1, 2, 4, 3, 5).contiguous()\n",
    "        out = self.conv(x_offset.view(n, c, h * self.kernel_size, w * self.kernel_size))\n",
    "    \n",
    "        return out\n",
    "        \n",
    "        \n",
    "    def compute_bilinear_g(self, q, p):\n",
    "        '''\n",
    "        '''\n",
    "        gx = torch.clamp(1 - torch.abs(p[..., :self.N] - q[..., :self.N]), min=0)\n",
    "        gy = torch.clamp(1 - torch.abs(p[..., self.N:] - q[..., self.N:]), min=0)\n",
    "        return gx * gy\n",
    "    \n",
    "    def get_x_q(self, x, q):\n",
    "        '''\n",
    "        '''\n",
    "        n, h, w, _ = q.size()\n",
    "        _, c, _, x_w = x.size()\n",
    "        x = x.view(n, c, -1)\n",
    "        \n",
    "        index = q[..., :self.N] * x_w + q[..., self.N:]\n",
    "        index = index.unsqueeze(1).expand(-1, c, -1, -1, -1).view(n, c, -1)\n",
    "        x_offset = x.gather(dim=-1, index=index.long()).view(n, c, h, w, self.N)\n",
    "        \n",
    "        return x_offset\n",
    "    \n",
    "    def get_p(self, ):\n",
    "        '''\n",
    "        '''\n",
    "        # kernel scope R\n",
    "        p_n_x, p_n_y = torch.meshgrid(torch.arange(-(self.kernel_size-1)//2, (self.kernel_size-1)//2 + 1), \n",
    "                                      torch.arange(-(self.kernel_size-1)//2, (self.kernel_size-1)//2 + 1))\n",
    "        p_n = torch.cat((p_n_x.flatten(), p_n_y.flatten()), dim=0).view(1, 2 * self.N, 1, 1)\n",
    "        \n",
    "        # center location \n",
    "        p_o_x, p_o_y = torch.meshgrid(torch.arange(1, self.max_fea_dim * self.stride + 1, self.stride), \n",
    "                                      torch.arange(1, self.max_fea_dim * self.stride + 1, self.stride))\n",
    "        p_o_x = p_o_x.flatten().view(1, 1, self.max_fea_dim, self.max_fea_dim).expand(1, self.N, -1, -1)\n",
    "        p_o_y = p_o_y.flatten().view(1, 1, self.max_fea_dim, self.max_fea_dim).expand(1, self.N, -1, -1)\n",
    "        p_o = torch.cat((p_o_x, p_o_y), dim=1)\n",
    "        \n",
    "        return p_n + p_o"
   ]
  },
  {
   "cell_type": "code",
   "execution_count": 552,
   "metadata": {},
   "outputs": [
    {
     "name": "stdout",
     "output_type": "stream",
     "text": [
      "torch.Size([1, 3, 20, 20])\n",
      "torch.Size([1, 3, 20, 20])\n"
     ]
    }
   ],
   "source": [
    "data = torch.rand(1, 3, 20, 20)#.to(torch.device('cuda:0'))\n",
    "deform_conv = Deformable_Conv2d(3, 3, kernel_size=3, stride=1, padding=1, modulation=True)#.to(torch.device('cuda:0'))\n",
    "conv = nn.Conv2d(3, 3, kernel_size=3, stride=1, padding=1)#.to(torch.device('cuda:0'))\n",
    "\n",
    "print(deform_conv(data).shape)\n",
    "print(conv(data).shape)"
   ]
  },
  {
   "cell_type": "code",
   "execution_count": 555,
   "metadata": {},
   "outputs": [
    {
     "name": "stdout",
     "output_type": "stream",
     "text": [
      "39.9 ms ± 8.75 ms per loop (mean ± std. dev. of 7 runs, 10 loops each)\n"
     ]
    }
   ],
   "source": [
    "%timeit deform_conv(data)"
   ]
  },
  {
   "cell_type": "code",
   "execution_count": 546,
   "metadata": {},
   "outputs": [
    {
     "name": "stdout",
     "output_type": "stream",
     "text": [
      "14.5 ms ± 3.1 ms per loop (mean ± std. dev. of 7 runs, 100 loops each)\n"
     ]
    }
   ],
   "source": [
    "%timeit conv(data)"
   ]
  },
  {
   "cell_type": "code",
   "execution_count": null,
   "metadata": {},
   "outputs": [],
   "source": []
  },
  {
   "cell_type": "code",
   "execution_count": 338,
   "metadata": {},
   "outputs": [
    {
     "name": "stdout",
     "output_type": "stream",
     "text": [
      "Deformable_Conv2d(\n",
      "  (zero_padding): ZeroPad2d(padding=(1, 1, 1, 1), value=0.0)\n",
      "  (p_conv): Conv2d(1, 18, kernel_size=(3, 3), stride=(1, 1), padding=(1, 1))\n",
      "  (m_conv): Conv2d(1, 9, kernel_size=(3, 3), stride=(1, 1), padding=(1, 1))\n",
      ")\n",
      "\n",
      "zero_padding\n",
      "p_conv\n",
      "m_conv\n"
     ]
    }
   ],
   "source": [
    "print(deform_conv)\n",
    "for n, m in deform_conv.named_modules():\n",
    "    print(n, )"
   ]
  },
  {
   "cell_type": "code",
   "execution_count": 10,
   "metadata": {},
   "outputs": [],
   "source": [
    "a = np.random.randn(3, 4)"
   ]
  },
  {
   "cell_type": "code",
   "execution_count": 16,
   "metadata": {},
   "outputs": [
    {
     "data": {
      "text/plain": [
       "array([ 0.11984671,  0.01168084, -0.75272534])"
      ]
     },
     "execution_count": 16,
     "metadata": {},
     "output_type": "execute_result"
    }
   ],
   "source": [
    "a[:, 2:].prod(axis=1)"
   ]
  },
  {
   "cell_type": "code",
   "execution_count": 37,
   "metadata": {},
   "outputs": [
    {
     "data": {
      "text/plain": [
       "1.6780719051126378"
      ]
     },
     "execution_count": 37,
     "metadata": {},
     "output_type": "execute_result"
    }
   ],
   "source": [
    "np.log2(0.1) + 5"
   ]
  },
  {
   "cell_type": "code",
   "execution_count": 32,
   "metadata": {},
   "outputs": [
    {
     "data": {
      "text/plain": [
       "5.0"
      ]
     },
     "execution_count": 32,
     "metadata": {},
     "output_type": "execute_result"
    }
   ],
   "source": [
    "np.round(4.8) "
   ]
  },
  {
   "cell_type": "code",
   "execution_count": null,
   "metadata": {},
   "outputs": [],
   "source": []
  }
 ],
 "metadata": {
  "kernelspec": {
   "display_name": "Python3",
   "language": "python",
   "name": "python3"
  },
  "language_info": {
   "codemirror_mode": {
    "name": "ipython",
    "version": 3
   },
   "file_extension": ".py",
   "mimetype": "text/x-python",
   "name": "python",
   "nbconvert_exporter": "python",
   "pygments_lexer": "ipython3",
   "version": "3.6.5"
  }
 },
 "nbformat": 4,
 "nbformat_minor": 2
}
