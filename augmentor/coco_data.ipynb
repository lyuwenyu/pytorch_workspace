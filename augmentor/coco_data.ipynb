{
 "cells": [
  {
   "cell_type": "code",
   "execution_count": 199,
   "metadata": {},
   "outputs": [],
   "source": [
    "import sys\n",
    "import os\n",
    "from pycocotools.coco import COCO\n",
    "from collections import defaultdict\n",
    "import random\n",
    "import json\n",
    "\n",
    "from PIL import Image\n",
    "from PIL import ImageDraw"
   ]
  },
  {
   "cell_type": "code",
   "execution_count": 156,
   "metadata": {},
   "outputs": [],
   "source": [
    "data_root = '../../dataset/coco/'\n",
    "imgs_root = os.path.join(data_root, 'images')\n",
    "anns_root = os.path.join(data_root, 'annotations')\n",
    "year = 'val2017'"
   ]
  },
  {
   "cell_type": "code",
   "execution_count": 157,
   "metadata": {},
   "outputs": [
    {
     "name": "stdout",
     "output_type": "stream",
     "text": [
      "loading annotations into memory...\n",
      "Done (t=0.70s)\n",
      "creating index...\n",
      "index created!\n"
     ]
    }
   ],
   "source": [
    "coco = COCO(os.path.join(anns_root, f'instances_{year}.json'))"
   ]
  },
  {
   "cell_type": "code",
   "execution_count": 158,
   "metadata": {},
   "outputs": [],
   "source": [
    "imgs_id = list(coco.imgs.keys())"
   ]
  },
  {
   "cell_type": "code",
   "execution_count": 159,
   "metadata": {},
   "outputs": [
    {
     "name": "stdout",
     "output_type": "stream",
     "text": [
      "397133\n",
      "000000397133.jpg\n",
      "[82445, 119568, 200887, 693231, 713388, 716434, 1125079, 1218137, 1878837, 1883614, 1902250, 1902971, 1914453, 2105658, 2114911, 2114949, 2139366, 2188144, 2196309]\n",
      "[{'supercategory': 'kitchen', 'id': 44, 'name': 'bottle'}]\n"
     ]
    }
   ],
   "source": [
    "img_id = imgs_id[0]\n",
    "name = coco.loadImgs(img_id)[0]['file_name']\n",
    "\n",
    "ann_ids = coco.getAnnIds(img_id)\n",
    "anns = coco.loadAnns(ann_ids)\n",
    "targets = [(ann['bbox'], ann['category_id']) for ann in anns]\n",
    "\n",
    "class_name = coco.loadCats(targets[0][1])\n",
    "\n",
    "print(img_id)\n",
    "print(path)\n",
    "print(ann_ids)\n",
    "print(class_name)"
   ]
  },
  {
   "cell_type": "code",
   "execution_count": 160,
   "metadata": {},
   "outputs": [
    {
     "data": {
      "text/plain": [
       "([217.62, 240.54, 38.99, 57.75], 44)"
      ]
     },
     "execution_count": 160,
     "metadata": {},
     "output_type": "execute_result"
    }
   ],
   "source": [
    "targets[0]"
   ]
  },
  {
   "cell_type": "code",
   "execution_count": 161,
   "metadata": {},
   "outputs": [],
   "source": [
    "path = coco.loadImgs(img_id)[0]"
   ]
  },
  {
   "cell_type": "code",
   "execution_count": null,
   "metadata": {},
   "outputs": [],
   "source": []
  },
  {
   "cell_type": "code",
   "execution_count": 192,
   "metadata": {},
   "outputs": [],
   "source": [
    "result = defaultdict(list)\n",
    "classes = set()\n",
    "\n",
    "for img_id in list(coco.imgs.keys()):\n",
    "    \n",
    "    path_name = coco.loadImgs(img_id)[0]['file_name']\n",
    "    \n",
    "    ann_ids = coco.getAnnIds(img_id)\n",
    "    anns = coco.loadAnns(ann_ids)\n",
    "    bboxes = [ann['bbox'] for ann in anns]\n",
    "    cls_ids = [ann['category_id'] for ann in anns]\n",
    "    cls_names = coco.loadCats(cls_ids)\n",
    "\n",
    "    for cls, bbx in zip(cls_names, bboxes):\n",
    "        if cls['supercategory'] in ['vehicle', 'person', 'animal', 'outdoor']:\n",
    "            result[path_name] += [(cls['name'], cls['supercategory'], bbx)]\n",
    "            classes.add(cls['name'])"
   ]
  },
  {
   "cell_type": "code",
   "execution_count": 193,
   "metadata": {},
   "outputs": [
    {
     "data": {
      "text/plain": [
       "3904"
      ]
     },
     "execution_count": 193,
     "metadata": {},
     "output_type": "execute_result"
    }
   ],
   "source": [
    "len(result)"
   ]
  },
  {
   "cell_type": "code",
   "execution_count": 194,
   "metadata": {},
   "outputs": [
    {
     "data": {
      "text/plain": [
       "3904"
      ]
     },
     "execution_count": 194,
     "metadata": {},
     "output_type": "execute_result"
    }
   ],
   "source": [
    "len(result.keys())"
   ]
  },
  {
   "cell_type": "code",
   "execution_count": 195,
   "metadata": {},
   "outputs": [
    {
     "name": "stdout",
     "output_type": "stream",
     "text": [
      "24\n",
      "{'airplane', 'cat', 'motorcycle', 'cow', 'zebra', 'person', 'elephant', 'horse', 'bird', 'stop sign', 'sheep', 'bench', 'fire hydrant', 'bus', 'bear', 'parking meter', 'truck', 'bicycle', 'boat', 'train', 'car', 'giraffe', 'dog', 'traffic light'}\n"
     ]
    }
   ],
   "source": [
    "print(len(classes))\n",
    "print(classes)"
   ]
  },
  {
   "cell_type": "code",
   "execution_count": null,
   "metadata": {},
   "outputs": [],
   "source": []
  },
  {
   "cell_type": "code",
   "execution_count": 197,
   "metadata": {},
   "outputs": [
    {
     "name": "stdout",
     "output_type": "stream",
     "text": [
      "[('person', 'person', [107.54, 131.67, 148.6, 251.18]), ('person', 'person', [258.42, 147.49, 107.76, 106.76]), ('person', 'person', [435.93, 84.06, 100.67, 302.03]), ('person', 'person', [169.87, 83.73, 75.46, 75.71]), ('person', 'person', [118.08, 85.99, 62.09, 146.91])] 000000323263.jpg\n"
     ]
    }
   ],
   "source": [
    "n = random.randint(0, len(result)-1)\n",
    "print(result[list(result.keys())[n]], list(result.keys())[n])\n",
    "img = Image.open(os.path.join(imgs_root, 'val2017', list(result.keys())[n]))\n",
    "_draw = ImageDraw.Draw(img)\n",
    "\n",
    "for res in result[list(result.keys())[n]]:\n",
    "    _draw.rectangle( (res[-1][0], res[-1][1], res[-1][0]+res[-1][2], res[-1][1]+res[-1][3] ), outline='red' )\n",
    "\n",
    "img.show()"
   ]
  },
  {
   "cell_type": "code",
   "execution_count": null,
   "metadata": {},
   "outputs": [],
   "source": []
  },
  {
   "cell_type": "code",
   "execution_count": 191,
   "metadata": {},
   "outputs": [
    {
     "data": {
      "text/plain": [
       "[{'supercategory': 'person', 'id': 1, 'name': 'person'},\n",
       " {'supercategory': 'vehicle', 'id': 2, 'name': 'bicycle'},\n",
       " {'supercategory': 'vehicle', 'id': 3, 'name': 'car'},\n",
       " {'supercategory': 'vehicle', 'id': 4, 'name': 'motorcycle'},\n",
       " {'supercategory': 'vehicle', 'id': 5, 'name': 'airplane'},\n",
       " {'supercategory': 'vehicle', 'id': 6, 'name': 'bus'},\n",
       " {'supercategory': 'vehicle', 'id': 7, 'name': 'train'},\n",
       " {'supercategory': 'vehicle', 'id': 8, 'name': 'truck'},\n",
       " {'supercategory': 'vehicle', 'id': 9, 'name': 'boat'},\n",
       " {'supercategory': 'outdoor', 'id': 10, 'name': 'traffic light'},\n",
       " {'supercategory': 'outdoor', 'id': 11, 'name': 'fire hydrant'},\n",
       " {'supercategory': 'outdoor', 'id': 13, 'name': 'stop sign'},\n",
       " {'supercategory': 'outdoor', 'id': 14, 'name': 'parking meter'},\n",
       " {'supercategory': 'outdoor', 'id': 15, 'name': 'bench'},\n",
       " {'supercategory': 'animal', 'id': 16, 'name': 'bird'},\n",
       " {'supercategory': 'animal', 'id': 17, 'name': 'cat'},\n",
       " {'supercategory': 'animal', 'id': 18, 'name': 'dog'},\n",
       " {'supercategory': 'animal', 'id': 19, 'name': 'horse'},\n",
       " {'supercategory': 'animal', 'id': 20, 'name': 'sheep'},\n",
       " {'supercategory': 'animal', 'id': 21, 'name': 'cow'},\n",
       " {'supercategory': 'animal', 'id': 22, 'name': 'elephant'},\n",
       " {'supercategory': 'animal', 'id': 23, 'name': 'bear'},\n",
       " {'supercategory': 'animal', 'id': 24, 'name': 'zebra'},\n",
       " {'supercategory': 'animal', 'id': 25, 'name': 'giraffe'},\n",
       " {'supercategory': 'accessory', 'id': 27, 'name': 'backpack'},\n",
       " {'supercategory': 'accessory', 'id': 28, 'name': 'umbrella'},\n",
       " {'supercategory': 'accessory', 'id': 31, 'name': 'handbag'},\n",
       " {'supercategory': 'accessory', 'id': 32, 'name': 'tie'},\n",
       " {'supercategory': 'accessory', 'id': 33, 'name': 'suitcase'},\n",
       " {'supercategory': 'sports', 'id': 34, 'name': 'frisbee'},\n",
       " {'supercategory': 'sports', 'id': 35, 'name': 'skis'},\n",
       " {'supercategory': 'sports', 'id': 36, 'name': 'snowboard'},\n",
       " {'supercategory': 'sports', 'id': 37, 'name': 'sports ball'},\n",
       " {'supercategory': 'sports', 'id': 38, 'name': 'kite'},\n",
       " {'supercategory': 'sports', 'id': 39, 'name': 'baseball bat'},\n",
       " {'supercategory': 'sports', 'id': 40, 'name': 'baseball glove'},\n",
       " {'supercategory': 'sports', 'id': 41, 'name': 'skateboard'},\n",
       " {'supercategory': 'sports', 'id': 42, 'name': 'surfboard'},\n",
       " {'supercategory': 'sports', 'id': 43, 'name': 'tennis racket'},\n",
       " {'supercategory': 'kitchen', 'id': 44, 'name': 'bottle'},\n",
       " {'supercategory': 'kitchen', 'id': 46, 'name': 'wine glass'},\n",
       " {'supercategory': 'kitchen', 'id': 47, 'name': 'cup'},\n",
       " {'supercategory': 'kitchen', 'id': 48, 'name': 'fork'},\n",
       " {'supercategory': 'kitchen', 'id': 49, 'name': 'knife'},\n",
       " {'supercategory': 'kitchen', 'id': 50, 'name': 'spoon'},\n",
       " {'supercategory': 'kitchen', 'id': 51, 'name': 'bowl'},\n",
       " {'supercategory': 'food', 'id': 52, 'name': 'banana'},\n",
       " {'supercategory': 'food', 'id': 53, 'name': 'apple'},\n",
       " {'supercategory': 'food', 'id': 54, 'name': 'sandwich'},\n",
       " {'supercategory': 'food', 'id': 55, 'name': 'orange'},\n",
       " {'supercategory': 'food', 'id': 56, 'name': 'broccoli'},\n",
       " {'supercategory': 'food', 'id': 57, 'name': 'carrot'},\n",
       " {'supercategory': 'food', 'id': 58, 'name': 'hot dog'},\n",
       " {'supercategory': 'food', 'id': 59, 'name': 'pizza'},\n",
       " {'supercategory': 'food', 'id': 60, 'name': 'donut'},\n",
       " {'supercategory': 'food', 'id': 61, 'name': 'cake'},\n",
       " {'supercategory': 'furniture', 'id': 62, 'name': 'chair'},\n",
       " {'supercategory': 'furniture', 'id': 63, 'name': 'couch'},\n",
       " {'supercategory': 'furniture', 'id': 64, 'name': 'potted plant'},\n",
       " {'supercategory': 'furniture', 'id': 65, 'name': 'bed'},\n",
       " {'supercategory': 'furniture', 'id': 67, 'name': 'dining table'},\n",
       " {'supercategory': 'furniture', 'id': 70, 'name': 'toilet'},\n",
       " {'supercategory': 'electronic', 'id': 72, 'name': 'tv'},\n",
       " {'supercategory': 'electronic', 'id': 73, 'name': 'laptop'},\n",
       " {'supercategory': 'electronic', 'id': 74, 'name': 'mouse'},\n",
       " {'supercategory': 'electronic', 'id': 75, 'name': 'remote'},\n",
       " {'supercategory': 'electronic', 'id': 76, 'name': 'keyboard'},\n",
       " {'supercategory': 'electronic', 'id': 77, 'name': 'cell phone'},\n",
       " {'supercategory': 'appliance', 'id': 78, 'name': 'microwave'},\n",
       " {'supercategory': 'appliance', 'id': 79, 'name': 'oven'},\n",
       " {'supercategory': 'appliance', 'id': 80, 'name': 'toaster'},\n",
       " {'supercategory': 'appliance', 'id': 81, 'name': 'sink'},\n",
       " {'supercategory': 'appliance', 'id': 82, 'name': 'refrigerator'},\n",
       " {'supercategory': 'indoor', 'id': 84, 'name': 'book'},\n",
       " {'supercategory': 'indoor', 'id': 85, 'name': 'clock'},\n",
       " {'supercategory': 'indoor', 'id': 86, 'name': 'vase'},\n",
       " {'supercategory': 'indoor', 'id': 87, 'name': 'scissors'},\n",
       " {'supercategory': 'indoor', 'id': 88, 'name': 'teddy bear'},\n",
       " {'supercategory': 'indoor', 'id': 89, 'name': 'hair drier'},\n",
       " {'supercategory': 'indoor', 'id': 90, 'name': 'toothbrush'}]"
      ]
     },
     "execution_count": 191,
     "metadata": {},
     "output_type": "execute_result"
    }
   ],
   "source": [
    "coco.loadCats(coco.getCatIds())"
   ]
  },
  {
   "cell_type": "code",
   "execution_count": 221,
   "metadata": {},
   "outputs": [
    {
     "name": "stdout",
     "output_type": "stream",
     "text": [
      "[('person', 'person', [365.92, 15.07, 274.08, 458.47]), ('person', 'person', [173.66, 139.15, 208.18, 335.46]), ('person', 'person', [237.45, 46.43, 99.64, 107.15]), ('person', 'person', [1.08, 71.89, 212.97, 376.22]), ('person', 'person', [508.83, 35.38, 49.41, 129.28]), ('person', 'person', [554.15, 23.64, 36.62, 63.86]), ('person', 'person', [541.45, 21.21, 75.07, 141.72]), ('person', 'person', [343.63, 53.65, 167.62, 111.74]), ('person', 'person', [160.39, 66.68, 77.99, 84.69]), ('person', 'person', [362.44, 102.44, 24.23, 27.7]), ('person', 'person', [535.82, 21.64, 30.15, 47.03])] 000000015335.jpg\n"
     ]
    }
   ],
   "source": [
    "print(result[path_name], path_name)\n",
    "print(result[])"
   ]
  },
  {
   "cell_type": "code",
   "execution_count": 290,
   "metadata": {},
   "outputs": [],
   "source": [
    "\n",
    "\n",
    "class DataToCoco(object):\n",
    "    \n",
    "    def __init__(self, path='', data=''):\n",
    "        \n",
    "        self.raw_data = dict()\n",
    "        self.class_start_id = 0\n",
    "        self.image_start_id = 0\n",
    "        self.annos_start_id = 0\n",
    "        \n",
    "        self.data = data # {'filename': [(name1, [bbx]), (name2, [bbx])]}\n",
    "            \n",
    "        self.raw_data['info'] = self.get_info()\n",
    "        self.raw_data['licenses'] = self.get_licenses()\n",
    "        self.raw_data['categories'] = self.get_categories()\n",
    "        self.raw_data['images'] = self.get_images()\n",
    "        self.raw_data['annotations'] = self.get_annotations()\n",
    "        \n",
    "        with open('./data.json', 'w') as f:\n",
    "            json.dump(self.raw_data, f)\n",
    "            \n",
    "    def get_info(self, ):\n",
    "        return {}\n",
    "\n",
    "    def get_licenses(self, ):\n",
    "        return []\n",
    "    \n",
    "    def get_categories(self, ):\n",
    "        '''get cat'''\n",
    "        cats = []\n",
    "        names = set()\n",
    "        for v in self.data.values():\n",
    "            for vv in v:\n",
    "                names.add(vv[0])\n",
    "\n",
    "        for n in names:\n",
    "            cats += [self._get_one_category(n, self.class_start_id)]\n",
    "            self.class_start_id += 1\n",
    "        return cats\n",
    "    \n",
    "    def get_images(self, ):\n",
    "        ''' get images '''\n",
    "        images = []\n",
    "        for img_path in self.data.keys():\n",
    "            images += [self._get_one_image(img_path, self.image_start_id)]\n",
    "            self.image_start_id += 1\n",
    "        return images\n",
    "    \n",
    "    def get_annotations(self, ):\n",
    "        ''' get annos '''\n",
    "        annos = []\n",
    "        for img_info in self.raw_data['images']:\n",
    "            for ann_info in self.data[img_info['file_name']]:\n",
    "                annos += [self._get_one_anno(img_info, ann_info, self.annos_start_id)]\n",
    "                self.annos_start_id += 1\n",
    "        return annos\n",
    "\n",
    "    \n",
    "    def _get_one_category(self, cat_info, idname):\n",
    "        '''get category'''\n",
    "        cate = {\n",
    "            'supercategory': '',\n",
    "            'id': idname,\n",
    "            'name': cat_info\n",
    "        }\n",
    "        return cate\n",
    "        \n",
    "\n",
    "    def _get_one_image(self, filename, idname):\n",
    "        ''' get one image '''\n",
    "        image = {\n",
    "            'license': 0,\n",
    "            'coco_url': '',\n",
    "            'date_captured': '',\n",
    "            'flickr_url': '',\n",
    "            'height': 0,\n",
    "            'width': 0,\n",
    "            'file_name': filename,\n",
    "            'id': idname\n",
    "        }\n",
    "        return image\n",
    "    \n",
    "    def _get_one_anno(self, img_info, anno_info, idname):\n",
    "        ''' get one anno '''\n",
    "        cate_id = None\n",
    "        for cate_info in self.raw_data['categories']:\n",
    "            if cate_info['name'] == anno_info[0]:\n",
    "                cate_id = cate_info['id']\n",
    "                break\n",
    "        \n",
    "        anno = {\n",
    "            'segmentation': None,\n",
    "            'area': 0,\n",
    "            'iscrowd': 0,\n",
    "            'image_id': img_info['id'],\n",
    "            'bbox': anno_info[-1],\n",
    "            'category_id': cate_id,\n",
    "            'id': idname\n",
    "        }\n",
    "        return anno"
   ]
  },
  {
   "cell_type": "code",
   "execution_count": null,
   "metadata": {},
   "outputs": [],
   "source": []
  },
  {
   "cell_type": "code",
   "execution_count": 291,
   "metadata": {},
   "outputs": [],
   "source": [
    "data = DataToCoco(data=result)"
   ]
  },
  {
   "cell_type": "code",
   "execution_count": 292,
   "metadata": {},
   "outputs": [
    {
     "name": "stdout",
     "output_type": "stream",
     "text": [
      "loading annotations into memory...\n",
      "Done (t=0.08s)\n",
      "creating index...\n",
      "index created!\n"
     ]
    }
   ],
   "source": [
    "newcoco = COCO('/home/wenyu/workspace/pytorch_workspace/augmentor/data.json')"
   ]
  },
  {
   "cell_type": "code",
   "execution_count": 293,
   "metadata": {},
   "outputs": [
    {
     "data": {
      "text/plain": [
       "[{'segmentation': None,\n",
       "  'area': 0,\n",
       "  'iscrowd': 0,\n",
       "  'image_id': 0,\n",
       "  'bbox': [388.66, 69.92, 109.41, 277.62],\n",
       "  'category_id': 5,\n",
       "  'id': 0}]"
      ]
     },
     "execution_count": 293,
     "metadata": {},
     "output_type": "execute_result"
    }
   ],
   "source": [
    "newcoco.loadAnns([0])"
   ]
  },
  {
   "cell_type": "code",
   "execution_count": null,
   "metadata": {},
   "outputs": [],
   "source": []
  },
  {
   "cell_type": "code",
   "execution_count": null,
   "metadata": {},
   "outputs": [],
   "source": []
  },
  {
   "cell_type": "code",
   "execution_count": 230,
   "metadata": {},
   "outputs": [
    {
     "name": "stdout",
     "output_type": "stream",
     "text": [
      "info <class 'dict'> 6\n",
      "\n",
      "licenses <class 'list'> 8\n",
      "\n",
      "images <class 'list'> 5000\n",
      "\n",
      "annotations <class 'list'> 36781\n",
      "\n",
      "categories <class 'list'> 80\n",
      "\n",
      "[{'supercategory': 'person', 'id': 1, 'name': 'person'}]\n"
     ]
    }
   ],
   "source": [
    "with open(os.path.join(anns_root, f'instances_{year}.json'), 'r') as f:\n",
    "\n",
    "    raw_data = json.load(f)\n",
    "    \n",
    "    for k in raw_data:\n",
    "        print(k, type(raw_data[k]), len(raw_data[k]))\n",
    "        print()\n",
    "        \n",
    "    print(raw_data['categories'][:1])"
   ]
  },
  {
   "cell_type": "code",
   "execution_count": null,
   "metadata": {},
   "outputs": [],
   "source": []
  }
 ],
 "metadata": {
  "kernelspec": {
   "display_name": "Python 3",
   "language": "python",
   "name": "python3"
  },
  "language_info": {
   "codemirror_mode": {
    "name": "ipython",
    "version": 3
   },
   "file_extension": ".py",
   "mimetype": "text/x-python",
   "name": "python",
   "nbconvert_exporter": "python",
   "pygments_lexer": "ipython3",
   "version": "3.6.5"
  }
 },
 "nbformat": 4,
 "nbformat_minor": 2
}
